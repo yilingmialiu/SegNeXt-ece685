{
 "cells": [
  {
   "cell_type": "code",
   "execution_count": 72,
   "id": "a28b714f-2da0-4b33-ba65-ff9695706a7e",
   "metadata": {},
   "outputs": [],
   "source": [
    "# dataset settings\n",
    "dataset_type = 'PascalVOCDataset'\n",
    "data_root = '/datacommons/carlsonlab/yl407/segdata_subset/VOCdevkit/VOC2012'\n",
    "img_norm_cfg = dict(\n",
    "    mean=[123.675, 116.28, 103.53], std=[58.395, 57.12, 57.375], to_rgb=True)\n",
    "crop_size = (512, 512)\n",
    "train_pipeline = [\n",
    "    dict(type='LoadImageFromFile'),\n",
    "    dict(type='LoadAnnotations'),\n",
    "    dict(type='Resize', img_scale=(2048, 512), ratio_range=(0.5, 2.0)),\n",
    "    dict(type='RandomCrop', crop_size=crop_size, cat_max_ratio=0.75),\n",
    "    dict(type='RandomFlip', prob=0.5),\n",
    "    dict(type='PhotoMetricDistortion'),\n",
    "    dict(type='Normalize', **img_norm_cfg),\n",
    "    dict(type='Pad', size=crop_size, pad_val=0, seg_pad_val=255),\n",
    "    dict(type='DefaultFormatBundle'),\n",
    "    dict(type='Collect', keys=['img', 'gt_semantic_seg']),\n",
    "]\n",
    "test_pipeline = [\n",
    "    dict(type='LoadImageFromFile'),\n",
    "    dict(\n",
    "        type='MultiScaleFlipAug',\n",
    "        img_scale=(2048, 512),\n",
    "        # img_ratios=[0.5, 0.75, 1.0, 1.25, 1.5, 1.75],\n",
    "        flip=False,\n",
    "        transforms=[\n",
    "            dict(type='Resize', keep_ratio=True),\n",
    "            dict(type='RandomFlip'),\n",
    "            dict(type='Normalize', **img_norm_cfg),\n",
    "            dict(type='ImageToTensor', keys=['img']),\n",
    "            dict(type='Collect', keys=['img']),\n",
    "        ])\n",
    "]\n",
    "data = dict(\n",
    "    samples_per_gpu=1,\n",
    "    workers_per_gpu=1,\n",
    "    train=dict(\n",
    "        type=dataset_type,\n",
    "        data_root=data_root,\n",
    "        img_dir='JPEGImages',\n",
    "        ann_dir='SegmentationClass',\n",
    "        split='ImageSets/Segmentation/train.txt',\n",
    "        pipeline=train_pipeline),\n",
    "    val=dict(\n",
    "        type=dataset_type,\n",
    "        data_root=data_root,\n",
    "        img_dir='JPEGImages',\n",
    "        ann_dir='SegmentationClass',\n",
    "        split='ImageSets/Segmentation/val.txt',\n",
    "        pipeline=test_pipeline),\n",
    "    test=dict(\n",
    "        type=dataset_type,\n",
    "        data_root=data_root,\n",
    "        img_dir='JPEGImages',\n",
    "        ann_dir='SegmentationClass',\n",
    "        split='ImageSets/Segmentation/val.txt',\n",
    "        pipeline=test_pipeline))"
   ]
  },
  {
   "cell_type": "code",
   "execution_count": 73,
   "id": "61ba2b3f-ed5d-4b20-b095-b1a28c426ce8",
   "metadata": {},
   "outputs": [],
   "source": [
    "from mmseg.datasets import build_dataset\n",
    "from torch.utils.data import DataLoader, IterableDataset\n",
    "from mmseg.datasets import build_dataloader"
   ]
  },
  {
   "cell_type": "code",
   "execution_count": 74,
   "id": "fbcb5015-1916-40bb-8680-083565329dac",
   "metadata": {},
   "outputs": [
    {
     "name": "stderr",
     "output_type": "stream",
     "text": [
      "2022-11-19 16:15:16,617 - mmseg - INFO - Loaded 183 images\n"
     ]
    }
   ],
   "source": [
    "datasets = [build_dataset(data['train'])]"
   ]
  },
  {
   "cell_type": "code",
   "execution_count": 75,
   "id": "6380649a-06a6-45de-807c-b95d815c2799",
   "metadata": {},
   "outputs": [],
   "source": [
    "dataloader = build_dataloader(datasets,samples_per_gpu=1,workers_per_gpu=1)"
   ]
  },
  {
   "cell_type": "code",
   "execution_count": 76,
   "id": "7a0b054c-3383-4ed9-b29b-8d73a85dd7f8",
   "metadata": {},
   "outputs": [
    {
     "data": {
      "text/plain": [
       "<torch.utils.data.dataloader._MultiProcessingDataLoaderIter at 0x7f1ef0af6ac0>"
      ]
     },
     "execution_count": 76,
     "metadata": {},
     "output_type": "execute_result"
    }
   ],
   "source": [
    "iter(dataloader)"
   ]
  },
  {
   "cell_type": "code",
   "execution_count": null,
   "id": "394ac7bb-2746-4b52-9071-9bfd23fa2cba",
   "metadata": {},
   "outputs": [],
   "source": []
  }
 ],
 "metadata": {
  "kernelspec": {
   "display_name": "Python 3",
   "language": "python",
   "name": "python3"
  },
  "language_info": {
   "codemirror_mode": {
    "name": "ipython",
    "version": 3
   },
   "file_extension": ".py",
   "mimetype": "text/x-python",
   "name": "python",
   "nbconvert_exporter": "python",
   "pygments_lexer": "ipython3",
   "version": "3.8.8"
  }
 },
 "nbformat": 4,
 "nbformat_minor": 5
}
