{
 "cells": [
  {
   "cell_type": "code",
   "execution_count": 1,
   "id": "13affe70-4229-41fa-8e83-6289d8bd20ad",
   "metadata": {},
   "outputs": [],
   "source": [
    "import pandas as pd\n",
    "import numpy as np\n",
    "np.random.seed(123)\n",
    "# read text file into pandas DataFrame and create \n",
    "# header with names\n",
    "df = pd.read_csv(\"/datacommons/carlsonlab/yl407/VOCdevkit/VOC2012/ImageSets/Segmentation/val.txt\",header=None)\n",
    "random_files = np.random.choice(range(df.shape[0]), int(df.shape[0]/2),replace=False)\n",
    "random_files_rest = np.setdiff1d(range(df.shape[0]), random_files)\n",
    "df_val = df.iloc[random_files,]\n",
    "df_test = df.iloc[random_files_rest,]\n",
    "np.savetxt('/datacommons/carlsonlab/yl407/VOCdevkit/VOC2012/ImageSets/Segmentation/val.txt',df_val.values,fmt='%s', delimiter='\\t')\n",
    "np.savetxt('/datacommons/carlsonlab/yl407/VOCdevkit/VOC2012/ImageSets/Segmentation/test.txt',df_test.values,fmt='%s', delimiter='\\t')"
   ]
  },
  {
   "cell_type": "code",
   "execution_count": 2,
   "id": "47c17290-b48d-4a4d-a335-10e43376d2a6",
   "metadata": {},
   "outputs": [],
   "source": [
    "import pandas as pd\n",
    "import numpy as np\n",
    "np.random.seed(123)\n",
    "# read text file into pandas DataFrame and create \n",
    "# header with names\n",
    "df = pd.read_csv(\"/datacommons/carlsonlab/yl407/landcover/data/splits/val.txt\",header=None)\n",
    "random_files = np.random.choice(range(df.shape[0]), int(df.shape[0]/2),replace=False)\n",
    "random_files_rest = np.setdiff1d(range(df.shape[0]), random_files)\n",
    "df_val = df.iloc[random_files,]\n",
    "df_test = df.iloc[random_files_rest,]\n",
    "np.savetxt('/datacommons/carlsonlab/yl407/landcover/data/splits/val.txt',df_val.values,fmt='%s', delimiter='\\t')\n",
    "np.savetxt('/datacommons/carlsonlab/yl407/landcover/data/splits/test.txt',df_test.values,fmt='%s', delimiter='\\t')"
   ]
  },
  {
   "cell_type": "code",
   "execution_count": null,
   "id": "b4e4e742-5e0a-46e4-b880-54f505c55ff3",
   "metadata": {},
   "outputs": [],
   "source": [
    "import pandas as pd\n",
    "np.random.seed(123)\n",
    "# read text file into pandas DataFrame and create \n",
    "# header with names\n",
    "df = pd.read_csv(\"/datacommons/carlsonlab/yl407/VOCdevkit_1_8/VOC2012/ImageSets/Segmentation/train.txt\",header=None)\n",
    "random_files = np.random.choice(range(df.shape[0]), int(df.shape[0]/8),replace=False)\n",
    "df_sub = df.iloc[random_files,]\n",
    "np.savetxt('/datacommons/carlsonlab/yl407/VOCdevkit_1_8/VOC2012/ImageSets/Segmentation/train_new.txt',df_sub.values,fmt='%s', delimiter='\\t')"
   ]
  },
  {
   "cell_type": "code",
   "execution_count": null,
   "id": "d411259a-2496-4482-a906-abee92b1da9c",
   "metadata": {},
   "outputs": [],
   "source": [
    "import pandas as pd\n",
    "np.random.seed(123)\n",
    "# read text file into pandas DataFrame and create \n",
    "# header with names\n",
    "df = pd.read_csv(\"/datacommons/carlsonlab/yl407/VOCdevkit_1_8/VOC2012/ImageSets/Segmentation/val.txt\",header=None)\n",
    "random_files = np.random.choice(range(df.shape[0]), int(df.shape[0]/8),replace=False)\n",
    "df_sub = df.iloc[random_files,]\n",
    "np.savetxt('/datacommons/carlsonlab/yl407/VOCdevkit_1_8/VOC2012/ImageSets/Segmentation/val_new.txt',df_sub.values,fmt='%s', delimiter='\\t')"
   ]
  },
  {
   "cell_type": "code",
   "execution_count": null,
   "id": "f5b22826-d09b-4f02-898d-45701e66d289",
   "metadata": {},
   "outputs": [],
   "source": [
    "import pandas as pd\n",
    "import numpy as np\n",
    "np.random.seed(123)\n",
    "# read text file into pandas DataFrame and create \n",
    "# header with names\n",
    "df = pd.read_csv(\"/datacommons/carlsonlab/yl407/landcover/data/splits/train.txt\",header=None)\n",
    "random_files = np.random.choice(range(df.shape[0]), int(df.shape[0]/8),replace=False)\n",
    "df_sub = df.iloc[random_files,]\n",
    "np.savetxt('/datacommons/carlsonlab/yl407/landcover/data/splits/train_sub.txt',df_sub.values,fmt='%s', delimiter='\\t')"
   ]
  },
  {
   "cell_type": "code",
   "execution_count": null,
   "id": "0f7f7a11-5d40-49c9-9e59-4bf5d83b2477",
   "metadata": {},
   "outputs": [],
   "source": [
    "import pandas as pd\n",
    "np.random.seed(123)\n",
    "# read text file into pandas DataFrame and create \n",
    "# header with names\n",
    "df = pd.read_csv(\"/datacommons/carlsonlab/yl407/landcover/data/splits/val.txt\",header=None)\n",
    "random_files = np.random.choice(range(df.shape[0]), int(df.shape[0]/8),replace=False)\n",
    "df_sub = df.iloc[random_files,]\n",
    "np.savetxt('/datacommons/carlsonlab/yl407/landcover/data/splits/val_sub.txt',df_sub.values,fmt='%s', delimiter='\\t')"
   ]
  }
 ],
 "metadata": {
  "kernelspec": {
   "display_name": "Python 3",
   "language": "python",
   "name": "python3"
  },
  "language_info": {
   "codemirror_mode": {
    "name": "ipython",
    "version": 3
   },
   "file_extension": ".py",
   "mimetype": "text/x-python",
   "name": "python",
   "nbconvert_exporter": "python",
   "pygments_lexer": "ipython3",
   "version": "3.8.8"
  }
 },
 "nbformat": 4,
 "nbformat_minor": 5
}
